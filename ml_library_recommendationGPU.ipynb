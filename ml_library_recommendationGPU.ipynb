{
 "cells": [
  {
   "cell_type": "code",
   "execution_count": 0,
   "metadata": {
    "colab": {},
    "colab_type": "code",
    "id": "oA8MB6GeG7vO"
   },
   "outputs": [],
   "source": [
    "import pandas as pd\n",
    "import numpy as np\n",
    "import matplotlib\n",
    "import matplotlib.pyplot as plt\n",
    "%matplotlib inline"
   ]
  },
  {
   "cell_type": "code",
   "execution_count": 2,
   "metadata": {
    "colab": {
     "base_uri": "https://localhost:8080/",
     "height": 570
    },
    "colab_type": "code",
    "id": "w2eYcGrUG_iR",
    "outputId": "a6ff8323-8431-4e07-8119-0dbb8976779d"
   },
   "outputs": [
    {
     "name": "stdout",
     "output_type": "stream",
     "text": [
      "/device:GPU:0\n",
      "[name: \"/device:CPU:0\"\n",
      "device_type: \"CPU\"\n",
      "memory_limit: 268435456\n",
      "locality {\n",
      "}\n",
      "incarnation: 934462565136851997\n",
      ", name: \"/device:XLA_CPU:0\"\n",
      "device_type: \"XLA_CPU\"\n",
      "memory_limit: 17179869184\n",
      "locality {\n",
      "}\n",
      "incarnation: 2256987005148651679\n",
      "physical_device_desc: \"device: XLA_CPU device\"\n",
      ", name: \"/device:XLA_GPU:0\"\n",
      "device_type: \"XLA_GPU\"\n",
      "memory_limit: 17179869184\n",
      "locality {\n",
      "}\n",
      "incarnation: 11892243292689056584\n",
      "physical_device_desc: \"device: XLA_GPU device\"\n",
      ", name: \"/device:GPU:0\"\n",
      "device_type: \"GPU\"\n",
      "memory_limit: 14800692839\n",
      "locality {\n",
      "  bus_id: 1\n",
      "  links {\n",
      "  }\n",
      "}\n",
      "incarnation: 12858181563179433425\n",
      "physical_device_desc: \"device: 0, name: Tesla T4, pci bus id: 0000:00:04.0, compute capability: 7.5\"\n",
      "]\n"
     ]
    }
   ],
   "source": [
    "from tensorflow.python.client import device_lib\n",
    "import tensorflow as tf\n",
    "print(tf.test.gpu_device_name())\n",
    "print(device_lib.list_local_devices())"
   ]
  },
  {
   "cell_type": "code",
   "execution_count": 0,
   "metadata": {
    "colab": {},
    "colab_type": "code",
    "id": "yWlV_Xo5HWzz"
   },
   "outputs": [],
   "source": [
    "from tensorflow.keras import applications\n",
    "from tensorflow.keras.preprocessing.image import ImageDataGenerator\n",
    "from tensorflow.keras import optimizers\n",
    "from tensorflow.keras.models import Sequential\n",
    "from tensorflow.keras.layers import Dropout, Flatten, Dense"
   ]
  },
  {
   "cell_type": "code",
   "execution_count": 0,
   "metadata": {
    "colab": {},
    "colab_type": "code",
    "id": "vhBhpKg1HXoC"
   },
   "outputs": [],
   "source": [
    "import tensorflow.keras.backend as K\n",
    "K.clear_session()"
   ]
  },
  {
   "cell_type": "code",
   "execution_count": 0,
   "metadata": {
    "colab": {
     "base_uri": "https://localhost:8080/",
     "height": 227
    },
    "colab_type": "code",
    "id": "BRcg512qHoZM",
    "outputId": "3dad85d6-dd02-4982-8333-dc8481b0c885"
   },
   "outputs": [
    {
     "name": "stdout",
     "output_type": "stream",
     "text": [
      "E: Package 'python-software-properties' has no installation candidate\n",
      "Selecting previously unselected package google-drive-ocamlfuse.\n",
      "(Reading database ... 130824 files and directories currently installed.)\n",
      "Preparing to unpack .../google-drive-ocamlfuse_0.7.3-0ubuntu3~ubuntu18.04.1_amd64.deb ...\n",
      "Unpacking google-drive-ocamlfuse (0.7.3-0ubuntu3~ubuntu18.04.1) ...\n",
      "Setting up google-drive-ocamlfuse (0.7.3-0ubuntu3~ubuntu18.04.1) ...\n",
      "Processing triggers for man-db (2.8.3-2ubuntu0.1) ...\n",
      "Please, open the following URL in a web browser: https://accounts.google.com/o/oauth2/auth?client_id=32555940559.apps.googleusercontent.com&redirect_uri=urn%3Aietf%3Awg%3Aoauth%3A2.0%3Aoob&scope=https%3A%2F%2Fwww.googleapis.com%2Fauth%2Fdrive&response_type=code&access_type=offline&approval_prompt=force\n",
      "··········\n",
      "Please, open the following URL in a web browser: https://accounts.google.com/o/oauth2/auth?client_id=32555940559.apps.googleusercontent.com&redirect_uri=urn%3Aietf%3Awg%3Aoauth%3A2.0%3Aoob&scope=https%3A%2F%2Fwww.googleapis.com%2Fauth%2Fdrive&response_type=code&access_type=offline&approval_prompt=force\n",
      "Please enter the verification code: Access token retrieved correctly.\n"
     ]
    }
   ],
   "source": [
    "!apt-get install -y -qq software-properties-common python-software-properties module-init-tools\n",
    "!add-apt-repository -y ppa:alessandro-strada/ppa 2>&1 > /dev/null\n",
    "!apt-get update -qq 2>&1 > /dev/null\n",
    "!apt-get -y install -qq google-drive-ocamlfuse fuse\n",
    "from google.colab import auth\n",
    "auth.authenticate_user()\n",
    "from oauth2client.client import GoogleCredentials\n",
    "creds = GoogleCredentials.get_application_default()\n",
    "import getpass\n",
    "!google-drive-ocamlfuse -headless -id={creds.client_id} -secret={creds.client_secret} < /dev/null 2>&1 | grep URL\n",
    "vcode = getpass.getpass()\n",
    "!echo {vcode} | google-drive-ocamlfuse -headless -id={creds.client_id} -secret={creds.client_secret}"
   ]
  },
  {
   "cell_type": "code",
   "execution_count": 0,
   "metadata": {
    "colab": {},
    "colab_type": "code",
    "id": "buhDCIH5Jmm0"
   },
   "outputs": [],
   "source": [
    "\n",
    "!mkdir -p drive\n",
    "!google-drive-ocamlfuse drive"
   ]
  },
  {
   "cell_type": "code",
   "execution_count": 0,
   "metadata": {
    "colab": {},
    "colab_type": "code",
    "id": "2y8PBBPZJnjZ"
   },
   "outputs": [],
   "source": [
    "import os\n",
    "os.chdir(\"drive/Colab Notebooks\") "
   ]
  },
  {
   "cell_type": "markdown",
   "metadata": {
    "colab_type": "text",
    "id": "OZgn7MYYG7vS"
   },
   "source": [
    "Pre-process the data in excel, and get the 4 academic years Quanzhou Normal University libarary book borrowing record of undergraduate. We use undergraduates' year of class, gender, shcool to predict what kind of books they are likely to borrow. we use Chinese books classification principal to divide all the books into 22 groups. "
   ]
  },
  {
   "cell_type": "code",
   "execution_count": 5,
   "metadata": {
    "colab": {
     "base_uri": "https://localhost:8080/",
     "height": 639
    },
    "colab_type": "code",
    "id": "af_DxbISG7vT",
    "outputId": "630bd3de-b50c-4820-ed82-044489a6826c",
    "scrolled": true
   },
   "outputs": [
    {
     "name": "stdout",
     "output_type": "stream",
     "text": [
      "['I', 'B', 'K', 'F', 'I', 'I', 'I', 'T', 'T', 'I']\n",
      "(62871, 3)\n",
      "[[2 'F' 'School of Literature and Communication']\n",
      " [2 'F' 'School of Literature and Communication']\n",
      " [2 'F' 'School of Literature and Communication']\n",
      " [2 'F' 'School of Literature and Communication']\n",
      " [1 'F' 'School of Educational Science']\n",
      " [2 'F' 'TS School of Business and Information Technology']\n",
      " [2 'F' 'TS School of Business and Information Technology']\n",
      " [0 'M' 'School of Foreign Languages']\n",
      " [0 'M' 'School of Foreign Languages']\n",
      " [0 'M' 'School of Foreign Languages']\n",
      " [0 'M' 'School of Literature and Communication']\n",
      " [2 'M' 'School of Foreign Languages']\n",
      " [1 'F' 'School of Foreign Languages']\n",
      " [0 'F' 'School of Foreign Languages']\n",
      " [0 'F' 'School of Foreign Languages']\n",
      " [2 'F' 'School of Foreign Languages']\n",
      " [1 'F' 'School of Resources and Environmental Science']\n",
      " [1 'F' 'School of Resources and Environmental Science']\n",
      " [1 'F' 'School of Resources and Environmental Science']\n",
      " [1 'F' 'School of Resources and Environmental Science']\n",
      " [1 'F' 'School of Resources and Environmental Science']\n",
      " [1 'F' 'School of Resources and Environmental Science']\n",
      " [1 'F' 'School of Resources and Environmental Science']\n",
      " [2 'F' 'School of Educational Science']\n",
      " [2 'F' 'School of Educational Science']\n",
      " [3 'F' 'School of Resources and Environmental Science']\n",
      " [3 'F' 'School of Resources and Environmental Science']\n",
      " [3 'F' 'School of Resources and Environmental Science']\n",
      " [1 'F' 'School of Resources and Environmental Science']\n",
      " [1 'F' 'School of Resources and Environmental Science']]\n",
      "(137391, 3)\n",
      "(137391, 1)\n",
      "(57245, 3)\n",
      "(57245, 1)\n"
     ]
    }
   ],
   "source": [
    "names =[\n",
    "'ID', # undergraduate class\n",
    "'Gender', 'School', 'Type', \n",
    "]\n",
    "y2014=[]\n",
    "y2015=[]\n",
    "y2016=[]\n",
    "y2017=[]\n",
    "df2014 = pd.read_csv('/content/drive/MLproject/2014.csv',names=names)\n",
    "df2015 = pd.read_csv('/content/drive/MLproject/2015.csv',names=names)\n",
    "df2016 = pd.read_csv('/content/drive/MLproject/2016.csv',names=names)\n",
    "df2017 = pd.read_csv('/content/drive/MLproject/2017.csv',names=names)\n",
    "\n",
    "df2014 = df2014.dropna()\n",
    "df2015 = df2015.dropna()\n",
    "df2016 = df2016.dropna()\n",
    "df2017 = df2017.dropna()\n",
    "\n",
    "T1 = np.array(df2014['Type'])\n",
    "T2 = np.array(df2015['Type'])\n",
    "T3 = np.array(df2016['Type'])\n",
    "T4 = np.array(df2017['Type'])\n",
    "a1 =T1.shape[0]\n",
    "a2 =T2.shape[0]\n",
    "a3 =T3.shape[0]\n",
    "a4 =T4.shape[0]\n",
    "# y2014=np.zeros((a1)).tostring()\n",
    "# y2015=np.zeros((a2)).tostring()\n",
    "# y2016=np.zeros((a3)).tostring()\n",
    "# y2017=np.zeros((a4)).tostring()\n",
    "\n",
    "for i in range(a1):\n",
    "    y = str(T1[i])\n",
    "    y2014.append(y[0])\n",
    "for i in range(a2):\n",
    "    y = str(T2[i])\n",
    "    y2015.append(y[0])\n",
    "for i in range(a3):\n",
    "    y = str(T3[i])\n",
    "    y2016.append(y[0])\n",
    "for i in range(a4):\n",
    "    y = str(T4[i])\n",
    "    y2017.append(y[0])\n",
    "print(y2017[:10])   #get the first character of call number string of each books. The first character represent the book's type\n",
    "X2014 = np.array(df2014[['ID','Gender','School']])\n",
    "X2015 = np.array(df2015[['ID','Gender','School']])\n",
    "X2016 = np.array(df2016[['ID','Gender','School']])\n",
    "X2017 = np.array(df2017[['ID','Gender','School']])\n",
    "\n",
    "for i in range(a1):\n",
    "    if X2014[i][0]<12e7:\n",
    "        X2014[i][0]=3\n",
    "        continue\n",
    "    if 12e7<X2014[i][0]<13e7:\n",
    "        X2014[i][0]=2\n",
    "        continue\n",
    "    if 13e7<X2014[i][0]<14e7:\n",
    "        X2014[i][0]=1\n",
    "        continue\n",
    "    if 14e7<X2014[i][0]:\n",
    "        X2014[i][0]=0\n",
    "\n",
    "for i in range(a2):\n",
    "    if X2015[i][0]<13e7:\n",
    "        X2015[i][0]=3\n",
    "    if 13e7<X2015[i][0]<14e7:\n",
    "        X2015[i][0]=2\n",
    "    if 14e7<X2015[i][0]<15e7:\n",
    "        X2015[i][0]=1\n",
    "    if 15e7<X2015[i][0]:\n",
    "        X2015[i][0]=0   \n",
    "    \n",
    "for i in range(a3):\n",
    "    if X2016[i][0]<14e7:\n",
    "        X2016[i][0]=3\n",
    "    if 14e7<X2016[i][0]<15e7:\n",
    "        X2016[i][0]=2\n",
    "    if 15e7<X2016[i][0]<16e7:\n",
    "        X2016[i][0]=1\n",
    "    if 16e7<X2016[i][0]:\n",
    "        X2016[i][0]=0\n",
    "\n",
    "for i in range(a4):\n",
    "    if X2017[i][0]<15e7:\n",
    "        X2017[i][0]=3\n",
    "    if 15e7<X2017[i][0]<16e7:\n",
    "        X2017[i][0]=2\n",
    "    if 16e7<X2017[i][0]<17e7:\n",
    "        X2017[i][0]=1\n",
    "    if 17e7<X2017[i][0]:\n",
    "        X2017[i][0]=0\n",
    "print(X2014.shape)\n",
    "print(X2014[10000:10030])\n",
    "Xtr=np.vstack((X2014,X2016,X2017))\n",
    "b1=np.array(y2014).reshape((a1,1))\n",
    "b2=np.array(y2016).reshape((a3,1))\n",
    "b3=np.array(y2017).reshape((a4,1))\n",
    "ytr=np.vstack((b1,b2,b3))\n",
    "Xts=X2015\n",
    "yts=np.array(y2015).reshape((a2,1))\n",
    "print(Xtr.shape)\n",
    "print(ytr.shape)\n",
    "\n",
    "print(Xts.shape)\n",
    "print(yts.shape)\n"
   ]
  },
  {
   "cell_type": "markdown",
   "metadata": {
    "colab_type": "text",
    "id": "17eYHbYyG7vY"
   },
   "source": [
    "In order to use on-hot coding, we assign different number to different class in second and third features for Xtr and Xts"
   ]
  },
  {
   "cell_type": "code",
   "execution_count": 6,
   "metadata": {
    "colab": {
     "base_uri": "https://localhost:8080/",
     "height": 362
    },
    "colab_type": "code",
    "id": "SXKASCXxG7vY",
    "outputId": "8d71b7b1-daac-4cfc-b250-2caa75edd994"
   },
   "outputs": [
    {
     "name": "stdout",
     "output_type": "stream",
     "text": [
      "[[1 1 13]\n",
      " [1 1 13]\n",
      " [1 1 13]\n",
      " [1 1 13]\n",
      " [3 1 6]\n",
      " [3 1 6]\n",
      " [3 1 6]\n",
      " [2 1 3]\n",
      " [2 1 3]\n",
      " [2 1 3]]\n",
      "[[1 1 1]\n",
      " [2 1 13]\n",
      " [2 1 13]\n",
      " [2 1 13]\n",
      " [2 1 13]\n",
      " [3 1 1]\n",
      " [3 1 1]\n",
      " [3 1 1]\n",
      " [2 1 13]\n",
      " [3 0 2]]\n"
     ]
    }
   ],
   "source": [
    "def one_hot(X):\n",
    "    X_row=X.shape[0]\n",
    "    for i in range(X_row):\n",
    "        if X[i][1]=='M':\n",
    "            X[i][1]=0\n",
    "        if X[i][1]=='F':\n",
    "            X[i][1]=1\n",
    "    for i in range(X_row):\n",
    "        if X[i][2]=='School of Resources and Environmental Science'or X[i][2]=='\\t\\r\\nSchool of Resources and Environmental Science':\n",
    "            X[i][2]=0\n",
    "        if X[i][2]=='School of Applied Technology':\n",
    "            X[i][2]=1\n",
    "        if X[i][2]=='School of Chemical Engineering and Material'or X[i][2]=='\\t\\r\\nSchool of Chemical Engineering and Material':\n",
    "            X[i][2]=2\n",
    "        if X[i][2]=='School of Educational Science':\n",
    "            X[i][2]=3\n",
    "        if X[i][2]=='School of Fine Arts and Design':\n",
    "            X[i][2]=4\n",
    "        if X[i][2]=='School of Foreign Languages':\n",
    "            X[i][2]=5\n",
    "        if X[i][2]=='School of Literature and Communication':\n",
    "            X[i][2]=6\n",
    "        if X[i][2]=='School of Maths and Computer Science':\n",
    "            X[i][2]=7\n",
    "        if X[i][2]=='School of Music and Dance':\n",
    "            X[i][2]=8\n",
    "        if X[i][2]=='School of Physical Education':\n",
    "            X[i][2]=9\n",
    "        if X[i][2]=='School of Physics and Information Engineering':\n",
    "            X[i][2]=10\n",
    "        if X[i][2]=='School of Politics and Social Development':\n",
    "            X[i][2]=11\n",
    "        if X[i][2]=='School of Sailing':\n",
    "            X[i][2]=12\n",
    "        if X[i][2]=='TS School of Business and Information Technology':\n",
    "            X[i][2]=13\n",
    "    return(X)\n",
    "\n",
    "one_hot(X=Xtr)\n",
    "one_hot(X=Xts)\n",
    "print(Xtr[:10,:])\n",
    "print(Xts[:10,:])"
   ]
  },
  {
   "cell_type": "markdown",
   "metadata": {
    "colab_type": "text",
    "id": "TKlNHybMG7vc"
   },
   "source": [
    "Use one-hot coding, 4 codes for class year, 2 codes for gender, 14 codes for shcool. So, for each student, need 20 codes."
   ]
  },
  {
   "cell_type": "markdown",
   "metadata": {
    "colab_type": "text",
    "id": "f5s_srCSG7vd"
   },
   "source": []
  },
  {
   "cell_type": "code",
   "execution_count": 7,
   "metadata": {
    "colab": {
     "base_uri": "https://localhost:8080/",
     "height": 207
    },
    "colab_type": "code",
    "id": "HB8bQ0K_G7vd",
    "outputId": "acfffb19-2540-4915-810a-bac36acd6d7c"
   },
   "outputs": [
    {
     "name": "stdout",
     "output_type": "stream",
     "text": [
      "[[1 1 13]\n",
      " [1 1 13]\n",
      " [1 1 13]\n",
      " [1 1 13]\n",
      " [3 1 6]]\n",
      "(137391, 20)\n",
      "[[0. 1. 0. 0. 0. 1. 0. 0. 0. 0. 0. 0. 0. 0. 0. 0. 0. 0. 0. 1.]\n",
      " [0. 1. 0. 0. 0. 1. 0. 0. 0. 0. 0. 0. 0. 0. 0. 0. 0. 0. 0. 1.]\n",
      " [0. 1. 0. 0. 0. 1. 0. 0. 0. 0. 0. 0. 0. 0. 0. 0. 0. 0. 0. 1.]\n",
      " [0. 1. 0. 0. 0. 1. 0. 0. 0. 0. 0. 0. 0. 0. 0. 0. 0. 0. 0. 1.]\n",
      " [0. 0. 0. 1. 0. 1. 0. 0. 0. 0. 0. 0. 1. 0. 0. 0. 0. 0. 0. 0.]]\n"
     ]
    }
   ],
   "source": [
    "print(Xtr[:5,:])\n",
    "\n",
    "from sklearn.preprocessing import OneHotEncoder\n",
    "enc = OneHotEncoder(categories='auto')\n",
    "enc.fit(Xtr)\n",
    "# print(\"enc_values_ is:\",enc.n_values_)\n",
    "Xtr1=enc.transform(Xtr).toarray()\n",
    "Xts1=enc.transform(Xts).toarray()\n",
    "print(Xtr1.shape)\n",
    "print(Xtr1[:5,:])"
   ]
  },
  {
   "cell_type": "markdown",
   "metadata": {
    "colab_type": "text",
    "id": "6Mvxb6sPG7vh"
   },
   "source": [
    "1.LogisticsRegression:"
   ]
  },
  {
   "cell_type": "code",
   "execution_count": 8,
   "metadata": {
    "colab": {
     "base_uri": "https://localhost:8080/",
     "height": 103
    },
    "colab_type": "code",
    "id": "9LpnDXbBG7vh",
    "outputId": "f2dabfdd-4972-4190-8f8e-b816fe154643"
   },
   "outputs": [
    {
     "name": "stderr",
     "output_type": "stream",
     "text": [
      "[Parallel(n_jobs=1)]: Using backend SequentialBackend with 1 concurrent workers.\n"
     ]
    },
    {
     "name": "stdout",
     "output_type": "stream",
     "text": [
      "convergence after 36 epochs took 14 seconds\n",
      "(57245, 22)\n"
     ]
    },
    {
     "name": "stderr",
     "output_type": "stream",
     "text": [
      "[Parallel(n_jobs=1)]: Done   1 out of   1 | elapsed:   14.2s remaining:    0.0s\n",
      "[Parallel(n_jobs=1)]: Done   1 out of   1 | elapsed:   14.2s finished\n"
     ]
    }
   ],
   "source": [
    "ytr1=ytr.ravel()\n",
    "from sklearn import linear_model\n",
    "logreg = linear_model.LogisticRegression(verbose=10, solver='sag',\\\n",
    "                                         multi_class='multinomial',max_iter=500)\n",
    "logreg.fit(Xtr1,ytr1)\n",
    "yhat=logreg.predict_proba(Xts1)\n",
    "print(yhat.shape)\n",
    "a=yhat[:100]\n"
   ]
  },
  {
   "cell_type": "markdown",
   "metadata": {
    "colab_type": "text",
    "id": "PB1mKcLzG7vl"
   },
   "source": [
    "Print the first three class with largest probability for testing data. We will recommend students these three kind of books."
   ]
  },
  {
   "cell_type": "code",
   "execution_count": 9,
   "metadata": {
    "colab": {
     "base_uri": "https://localhost:8080/",
     "height": 360
    },
    "colab_type": "code",
    "id": "jcE2CTVGG7vl",
    "outputId": "f7863d4d-3522-478e-9998-fc5c119f4b62"
   },
   "outputs": [
    {
     "data": {
      "text/html": [
       "<div>\n",
       "<style scoped>\n",
       "    .dataframe tbody tr th:only-of-type {\n",
       "        vertical-align: middle;\n",
       "    }\n",
       "\n",
       "    .dataframe tbody tr th {\n",
       "        vertical-align: top;\n",
       "    }\n",
       "\n",
       "    .dataframe thead th {\n",
       "        text-align: right;\n",
       "    }\n",
       "</style>\n",
       "<table border=\"1\" class=\"dataframe\">\n",
       "  <thead>\n",
       "    <tr style=\"text-align: right;\">\n",
       "      <th></th>\n",
       "      <th>class 0</th>\n",
       "      <th>prob 0</th>\n",
       "      <th>class 1</th>\n",
       "      <th>prob 1</th>\n",
       "      <th>class 2</th>\n",
       "      <th>prob 2</th>\n",
       "    </tr>\n",
       "  </thead>\n",
       "  <tbody>\n",
       "    <tr>\n",
       "      <th>0</th>\n",
       "      <td>I</td>\n",
       "      <td>0.544209</td>\n",
       "      <td>H</td>\n",
       "      <td>0.122286</td>\n",
       "      <td>K</td>\n",
       "      <td>0.070817</td>\n",
       "    </tr>\n",
       "    <tr>\n",
       "      <th>1</th>\n",
       "      <td>I</td>\n",
       "      <td>0.397560</td>\n",
       "      <td>T</td>\n",
       "      <td>0.180065</td>\n",
       "      <td>F</td>\n",
       "      <td>0.137745</td>\n",
       "    </tr>\n",
       "    <tr>\n",
       "      <th>2</th>\n",
       "      <td>I</td>\n",
       "      <td>0.397560</td>\n",
       "      <td>T</td>\n",
       "      <td>0.180065</td>\n",
       "      <td>F</td>\n",
       "      <td>0.137745</td>\n",
       "    </tr>\n",
       "    <tr>\n",
       "      <th>3</th>\n",
       "      <td>I</td>\n",
       "      <td>0.397560</td>\n",
       "      <td>T</td>\n",
       "      <td>0.180065</td>\n",
       "      <td>F</td>\n",
       "      <td>0.137745</td>\n",
       "    </tr>\n",
       "    <tr>\n",
       "      <th>4</th>\n",
       "      <td>I</td>\n",
       "      <td>0.397560</td>\n",
       "      <td>T</td>\n",
       "      <td>0.180065</td>\n",
       "      <td>F</td>\n",
       "      <td>0.137745</td>\n",
       "    </tr>\n",
       "    <tr>\n",
       "      <th>5</th>\n",
       "      <td>I</td>\n",
       "      <td>0.291480</td>\n",
       "      <td>U</td>\n",
       "      <td>0.190304</td>\n",
       "      <td>F</td>\n",
       "      <td>0.141148</td>\n",
       "    </tr>\n",
       "    <tr>\n",
       "      <th>6</th>\n",
       "      <td>I</td>\n",
       "      <td>0.291480</td>\n",
       "      <td>U</td>\n",
       "      <td>0.190304</td>\n",
       "      <td>F</td>\n",
       "      <td>0.141148</td>\n",
       "    </tr>\n",
       "    <tr>\n",
       "      <th>7</th>\n",
       "      <td>I</td>\n",
       "      <td>0.291480</td>\n",
       "      <td>U</td>\n",
       "      <td>0.190304</td>\n",
       "      <td>F</td>\n",
       "      <td>0.141148</td>\n",
       "    </tr>\n",
       "    <tr>\n",
       "      <th>8</th>\n",
       "      <td>I</td>\n",
       "      <td>0.397560</td>\n",
       "      <td>T</td>\n",
       "      <td>0.180065</td>\n",
       "      <td>F</td>\n",
       "      <td>0.137745</td>\n",
       "    </tr>\n",
       "    <tr>\n",
       "      <th>9</th>\n",
       "      <td>I</td>\n",
       "      <td>0.188973</td>\n",
       "      <td>T</td>\n",
       "      <td>0.174859</td>\n",
       "      <td>O</td>\n",
       "      <td>0.120709</td>\n",
       "    </tr>\n",
       "  </tbody>\n",
       "</table>\n",
       "</div>"
      ],
      "text/plain": [
       "  class 0    prob 0 class 1    prob 1 class 2    prob 2\n",
       "0       I  0.544209       H  0.122286       K  0.070817\n",
       "1       I  0.397560       T  0.180065       F  0.137745\n",
       "2       I  0.397560       T  0.180065       F  0.137745\n",
       "3       I  0.397560       T  0.180065       F  0.137745\n",
       "4       I  0.397560       T  0.180065       F  0.137745\n",
       "5       I  0.291480       U  0.190304       F  0.141148\n",
       "6       I  0.291480       U  0.190304       F  0.141148\n",
       "7       I  0.291480       U  0.190304       F  0.141148\n",
       "8       I  0.397560       T  0.180065       F  0.137745\n",
       "9       I  0.188973       T  0.174859       O  0.120709"
      ]
     },
     "execution_count": 9,
     "metadata": {
      "tags": []
     },
     "output_type": "execute_result"
    }
   ],
   "source": [
    "class_name1=['A','B','C','D','E','F','G','H','I','J','K','N','O','P','Q','R','S','T','U','V','X','Z']\n",
    "b=np.zeros((10,3))\n",
    "for i in range(10):\n",
    "    b[i]=np.argsort(-a[i])[:3]    ## b is the first three largest class's index\n",
    "    \n",
    "\n",
    "ntop = 3\n",
    "res_dict = {}\n",
    "for i in range(ntop):\n",
    "    class_name = []\n",
    "    class_prob = []\n",
    "    for j in range(10):\n",
    "        b1=int(b[j][i])\n",
    "        class_name.append(class_name1[b1])\n",
    "        class_prob.append(a[j][b1])\n",
    "\n",
    "    name_col = str('class %d' % i)\n",
    "    prob_col = str('prob %d' % i)\n",
    "    res_dict[name_col] = class_name\n",
    "    res_dict[prob_col] = class_prob\n",
    "    \n",
    "df = pd.DataFrame(data=res_dict)\n",
    "df"
   ]
  },
  {
   "cell_type": "code",
   "execution_count": 10,
   "metadata": {
    "colab": {
     "base_uri": "https://localhost:8080/",
     "height": 34
    },
    "colab_type": "code",
    "id": "pymA78qbG7vq",
    "outputId": "855d22ea-d522-408a-f160-08702855bddb"
   },
   "outputs": [
    {
     "name": "stdout",
     "output_type": "stream",
     "text": [
      "0.7502663988121233\n"
     ]
    }
   ],
   "source": [
    "Xts_row=Xts.shape[0]\n",
    "b=np.zeros((Xts_row,3))\n",
    "counter=0\n",
    "for i in range(Xts_row):\n",
    "    b[i]=np.argsort(-yhat[i])[:3]    ## b is the first three largest class's index\n",
    "\n",
    "for i in range(Xts_row):\n",
    "    max1=int(b[i][0])\n",
    "    max2=int(b[i][1])\n",
    "    max3=int(b[i][2])\n",
    "    if yts[i] == class_name1[max1] or yts[i]== class_name1[max2] or yts[i]== class_name1[max3]:\n",
    "        counter=counter+1\n",
    "log_accuracy=counter/Xts_row\n",
    "print(log_accuracy)"
   ]
  },
  {
   "cell_type": "markdown",
   "metadata": {
    "colab_type": "text",
    "id": "Kc62rzTfSHML"
   },
   "source": [
    "2.SVM:\n"
   ]
  },
  {
   "cell_type": "code",
   "execution_count": 11,
   "metadata": {
    "colab": {
     "base_uri": "https://localhost:8080/",
     "height": 34
    },
    "colab_type": "code",
    "id": "rJMOSZTHG7vt",
    "outputId": "e595a68d-1c82-453d-8612-cc5302c0492a"
   },
   "outputs": [
    {
     "name": "stdout",
     "output_type": "stream",
     "text": [
      "[LibSVM]"
     ]
    }
   ],
   "source": [
    "svmnum=20000   # train and test sample number\n",
    "from sklearn import svm\n",
    "svcrbf = svm.SVC(probability=True,  kernel=\"rbf\", C=0.1, gamma=.001,verbose=10)\n",
    "svcrbf.fit(Xtr1[:svmnum,:],ytr1[:svmnum])\n",
    "yhat=svcrbf.predict_proba(Xts1[:svmnum])\n",
    "a=yhat[:100]"
   ]
  },
  {
   "cell_type": "code",
   "execution_count": 12,
   "metadata": {
    "colab": {
     "base_uri": "https://localhost:8080/",
     "height": 362
    },
    "colab_type": "code",
    "id": "lZoejcn0G7vw",
    "outputId": "287271bc-85ae-4623-8bdd-a271d226f4e5"
   },
   "outputs": [
    {
     "name": "stdout",
     "output_type": "stream",
     "text": [
      "[[0.00479515 0.05591309 0.02362029 0.01050184 0.00240698 0.05065337\n",
      "  0.01279957 0.13281572 0.51133113 0.03939331 0.07131815 0.00183547\n",
      "  0.01073194 0.00192827 0.00258753 0.00590441 0.00300688 0.04778115\n",
      "  0.00745797 0.00064557 0.00137536 0.00119685]\n",
      " [0.00458502 0.04958149 0.0218675  0.01754072 0.00267347 0.06793454\n",
      "  0.0163636  0.09933344 0.44829186 0.05278125 0.07064934 0.00226998\n",
      "  0.0095298  0.00229179 0.00365817 0.00740017 0.00202904 0.11494328\n",
      "  0.00148877 0.00072926 0.00245471 0.00160281]\n",
      " [0.00458502 0.04958149 0.0218675  0.01754072 0.00267347 0.06793454\n",
      "  0.0163636  0.09933344 0.44829186 0.05278125 0.07064934 0.00226998\n",
      "  0.0095298  0.00229179 0.00365817 0.00740017 0.00202904 0.11494328\n",
      "  0.00148877 0.00072926 0.00245471 0.00160281]\n",
      " [0.00458502 0.04958149 0.0218675  0.01754072 0.00267347 0.06793454\n",
      "  0.0163636  0.09933344 0.44829186 0.05278125 0.07064934 0.00226998\n",
      "  0.0095298  0.00229179 0.00365817 0.00740017 0.00202904 0.11494328\n",
      "  0.00148877 0.00072926 0.00245471 0.00160281]\n",
      " [0.00458502 0.04958149 0.0218675  0.01754072 0.00267347 0.06793454\n",
      "  0.0163636  0.09933344 0.44829186 0.05278125 0.07064934 0.00226998\n",
      "  0.0095298  0.00229179 0.00365817 0.00740017 0.00202904 0.11494328\n",
      "  0.00148877 0.00072926 0.00245471 0.00160281]]\n"
     ]
    }
   ],
   "source": [
    "print(a[:5])"
   ]
  },
  {
   "cell_type": "code",
   "execution_count": 13,
   "metadata": {
    "colab": {
     "base_uri": "https://localhost:8080/",
     "height": 360
    },
    "colab_type": "code",
    "id": "3h9Kcb5cG7vz",
    "outputId": "0eacf0b0-b400-45e2-b158-6b6fe7c513ef"
   },
   "outputs": [
    {
     "data": {
      "text/html": [
       "<div>\n",
       "<style scoped>\n",
       "    .dataframe tbody tr th:only-of-type {\n",
       "        vertical-align: middle;\n",
       "    }\n",
       "\n",
       "    .dataframe tbody tr th {\n",
       "        vertical-align: top;\n",
       "    }\n",
       "\n",
       "    .dataframe thead th {\n",
       "        text-align: right;\n",
       "    }\n",
       "</style>\n",
       "<table border=\"1\" class=\"dataframe\">\n",
       "  <thead>\n",
       "    <tr style=\"text-align: right;\">\n",
       "      <th></th>\n",
       "      <th>class 0</th>\n",
       "      <th>prob 0</th>\n",
       "      <th>class 1</th>\n",
       "      <th>prob 1</th>\n",
       "      <th>class 2</th>\n",
       "      <th>prob 2</th>\n",
       "    </tr>\n",
       "  </thead>\n",
       "  <tbody>\n",
       "    <tr>\n",
       "      <th>0</th>\n",
       "      <td>I</td>\n",
       "      <td>0.511331</td>\n",
       "      <td>H</td>\n",
       "      <td>0.132816</td>\n",
       "      <td>K</td>\n",
       "      <td>0.071318</td>\n",
       "    </tr>\n",
       "    <tr>\n",
       "      <th>1</th>\n",
       "      <td>I</td>\n",
       "      <td>0.448292</td>\n",
       "      <td>T</td>\n",
       "      <td>0.114943</td>\n",
       "      <td>F</td>\n",
       "      <td>0.067935</td>\n",
       "    </tr>\n",
       "    <tr>\n",
       "      <th>2</th>\n",
       "      <td>I</td>\n",
       "      <td>0.448292</td>\n",
       "      <td>T</td>\n",
       "      <td>0.114943</td>\n",
       "      <td>F</td>\n",
       "      <td>0.067935</td>\n",
       "    </tr>\n",
       "    <tr>\n",
       "      <th>3</th>\n",
       "      <td>I</td>\n",
       "      <td>0.448292</td>\n",
       "      <td>T</td>\n",
       "      <td>0.114943</td>\n",
       "      <td>F</td>\n",
       "      <td>0.067935</td>\n",
       "    </tr>\n",
       "    <tr>\n",
       "      <th>4</th>\n",
       "      <td>I</td>\n",
       "      <td>0.448292</td>\n",
       "      <td>T</td>\n",
       "      <td>0.114943</td>\n",
       "      <td>F</td>\n",
       "      <td>0.067935</td>\n",
       "    </tr>\n",
       "    <tr>\n",
       "      <th>5</th>\n",
       "      <td>I</td>\n",
       "      <td>0.286387</td>\n",
       "      <td>U</td>\n",
       "      <td>0.019422</td>\n",
       "      <td>F</td>\n",
       "      <td>0.156400</td>\n",
       "    </tr>\n",
       "    <tr>\n",
       "      <th>6</th>\n",
       "      <td>I</td>\n",
       "      <td>0.286387</td>\n",
       "      <td>U</td>\n",
       "      <td>0.019422</td>\n",
       "      <td>F</td>\n",
       "      <td>0.156400</td>\n",
       "    </tr>\n",
       "    <tr>\n",
       "      <th>7</th>\n",
       "      <td>I</td>\n",
       "      <td>0.286387</td>\n",
       "      <td>U</td>\n",
       "      <td>0.019422</td>\n",
       "      <td>F</td>\n",
       "      <td>0.156400</td>\n",
       "    </tr>\n",
       "    <tr>\n",
       "      <th>8</th>\n",
       "      <td>I</td>\n",
       "      <td>0.448292</td>\n",
       "      <td>T</td>\n",
       "      <td>0.114943</td>\n",
       "      <td>F</td>\n",
       "      <td>0.067935</td>\n",
       "    </tr>\n",
       "    <tr>\n",
       "      <th>9</th>\n",
       "      <td>I</td>\n",
       "      <td>0.316972</td>\n",
       "      <td>T</td>\n",
       "      <td>0.121753</td>\n",
       "      <td>O</td>\n",
       "      <td>0.124186</td>\n",
       "    </tr>\n",
       "  </tbody>\n",
       "</table>\n",
       "</div>"
      ],
      "text/plain": [
       "  class 0    prob 0 class 1    prob 1 class 2    prob 2\n",
       "0       I  0.511331       H  0.132816       K  0.071318\n",
       "1       I  0.448292       T  0.114943       F  0.067935\n",
       "2       I  0.448292       T  0.114943       F  0.067935\n",
       "3       I  0.448292       T  0.114943       F  0.067935\n",
       "4       I  0.448292       T  0.114943       F  0.067935\n",
       "5       I  0.286387       U  0.019422       F  0.156400\n",
       "6       I  0.286387       U  0.019422       F  0.156400\n",
       "7       I  0.286387       U  0.019422       F  0.156400\n",
       "8       I  0.448292       T  0.114943       F  0.067935\n",
       "9       I  0.316972       T  0.121753       O  0.124186"
      ]
     },
     "execution_count": 13,
     "metadata": {
      "tags": []
     },
     "output_type": "execute_result"
    }
   ],
   "source": [
    "for i in range(ntop):\n",
    "    class_name = []\n",
    "    class_prob = []\n",
    "    for j in range(10):\n",
    "        b1=int(b[j][i])\n",
    "        class_name.append(class_name1[b1])\n",
    "        class_prob.append(a[j][b1])\n",
    "\n",
    "    name_col = str('class %d' % i)\n",
    "    prob_col = str('prob %d' % i)\n",
    "    res_dict[name_col] = class_name\n",
    "    res_dict[prob_col] = class_prob\n",
    "    \n",
    "df = pd.DataFrame(data=res_dict)\n",
    "df"
   ]
  },
  {
   "cell_type": "code",
   "execution_count": 14,
   "metadata": {
    "colab": {
     "base_uri": "https://localhost:8080/",
     "height": 34
    },
    "colab_type": "code",
    "id": "1bAiggIeSWHO",
    "outputId": "940991f5-a13c-4411-939d-c4979b82eef2"
   },
   "outputs": [
    {
     "name": "stdout",
     "output_type": "stream",
     "text": [
      "0.73795\n"
     ]
    }
   ],
   "source": [
    "b=np.zeros((svmnum,3))\n",
    "counter=0\n",
    "for i in range(svmnum):\n",
    "    b[i]=np.argsort(-yhat[i])[:3]    ## b is the first three largest class's index\n",
    "\n",
    "for i in range(svmnum):\n",
    "    max1=int(b[i][0])\n",
    "    max2=int(b[i][1])\n",
    "    max3=int(b[i][2])\n",
    "    if yts[i] == class_name1[max1] or yts[i]== class_name1[max2] or yts[i]== class_name1[max3]:\n",
    "        counter=counter+1\n",
    "log_accuracy=counter/svmnum\n",
    "print(log_accuracy)"
   ]
  },
  {
   "cell_type": "code",
   "execution_count": 0,
   "metadata": {
    "colab": {},
    "colab_type": "code",
    "id": "pT4z0xdLTsSj"
   },
   "outputs": [],
   "source": []
  }
 ],
 "metadata": {
  "accelerator": "GPU",
  "colab": {
   "name": "ml library recommendation.ipynb",
   "provenance": [],
   "version": "0.3.2"
  },
  "kernelspec": {
   "display_name": "Python 3",
   "language": "python",
   "name": "python3"
  },
  "language_info": {
   "codemirror_mode": {
    "name": "ipython",
    "version": 3
   },
   "file_extension": ".py",
   "mimetype": "text/x-python",
   "name": "python",
   "nbconvert_exporter": "python",
   "pygments_lexer": "ipython3",
   "version": "3.7.3"
  }
 },
 "nbformat": 4,
 "nbformat_minor": 1
}
